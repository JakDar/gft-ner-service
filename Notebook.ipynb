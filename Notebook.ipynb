{
 "cells": [
  {
   "cell_type": "markdown",
   "metadata": {},
   "source": [
    "# Ner"
   ]
  },
  {
   "cell_type": "markdown",
   "metadata": {},
   "source": [
    "#### Imports"
   ]
  },
  {
   "cell_type": "code",
   "execution_count": 1,
   "metadata": {
    "ExecuteTime": {
     "end_time": "2019-09-14T12:00:00.559552Z",
     "start_time": "2019-09-14T12:00:00.549916Z"
    }
   },
   "outputs": [],
   "source": [
    "from typing import Dict, List, Tuple, Optional\n",
    "from collections import namedtuple\n",
    "import os"
   ]
  },
  {
   "cell_type": "code",
   "execution_count": 2,
   "metadata": {
    "ExecuteTime": {
     "end_time": "2019-09-14T12:00:01.364248Z",
     "start_time": "2019-09-14T12:00:01.301685Z"
    }
   },
   "outputs": [],
   "source": [
    "from functional import seq, pseq\n",
    "from functional.streams import Sequence\n",
    "from IPython.core.display import HTML\n",
    "\n",
    "def display_seq(sequence:Sequence,rows:int)-> None:\n",
    "        sequence._repr_html_= lambda :sequence.tabulate(rows,tablefmt='html')\n",
    "        display(sequence)\n",
    "        sequence._repr_html_= lambda :sequence.tabulate(10,tablefmt='html')"
   ]
  },
  {
   "cell_type": "code",
   "execution_count": 3,
   "metadata": {
    "ExecuteTime": {
     "end_time": "2019-09-14T12:00:06.092031Z",
     "start_time": "2019-09-14T12:00:04.959033Z"
    }
   },
   "outputs": [],
   "source": [
    "import numpy as np\n",
    "import pandas as pd\n",
    "import matplotlib.pyplot as plt"
   ]
  },
  {
   "cell_type": "code",
   "execution_count": 4,
   "metadata": {
    "ExecuteTime": {
     "end_time": "2019-09-14T12:00:06.101162Z",
     "start_time": "2019-09-14T12:00:06.095539Z"
    }
   },
   "outputs": [],
   "source": [
    "import functools\n",
    "def compose(*functions):\n",
    "    def compose2(f, g):\n",
    "        return lambda x: f(g(x))\n",
    "    return functools.reduce(compose2, functions, lambda x: x)"
   ]
  },
  {
   "cell_type": "markdown",
   "metadata": {
    "ExecuteTime": {
     "end_time": "2019-05-20T08:45:09.261251Z",
     "start_time": "2019-05-20T08:45:09.258254Z"
    }
   },
   "source": [
    "## Spacy"
   ]
  },
  {
   "cell_type": "code",
   "execution_count": 13,
   "metadata": {
    "ExecuteTime": {
     "end_time": "2019-09-14T12:06:57.371923Z",
     "start_time": "2019-09-14T12:06:50.275527Z"
    }
   },
   "outputs": [
    {
     "name": "stdout",
     "output_type": "stream",
     "text": [
      "Requirement already satisfied: spacy in /home/owner/.local/lib/python3.7/site-packages (2.1.8)\n",
      "Collecting nltk\n",
      "\u001b[?25l  Downloading https://files.pythonhosted.org/packages/f6/1d/d925cfb4f324ede997f6d47bea4d9babba51b49e87a767c170b77005889d/nltk-3.4.5.zip (1.5MB)\n",
      "\u001b[K     |████████████████████████████████| 1.5MB 605kB/s eta 0:00:01\n",
      "\u001b[?25hRequirement already satisfied: murmurhash<1.1.0,>=0.28.0 in /home/owner/.local/lib/python3.7/site-packages (from spacy) (1.0.2)\n",
      "Requirement already satisfied: numpy>=1.15.0 in /home/owner/.local/lib/python3.7/site-packages (from spacy) (1.16.4)\n",
      "Requirement already satisfied: wasabi<1.1.0,>=0.2.0 in /home/owner/.local/lib/python3.7/site-packages (from spacy) (0.2.2)\n",
      "Requirement already satisfied: requests<3.0.0,>=2.13.0 in /usr/lib/python3.7/site-packages (from spacy) (2.22.0)\n",
      "Requirement already satisfied: preshed<2.1.0,>=2.0.1 in /home/owner/.local/lib/python3.7/site-packages (from spacy) (2.0.1)\n",
      "Requirement already satisfied: thinc<7.1.0,>=7.0.8 in /home/owner/.local/lib/python3.7/site-packages (from spacy) (7.0.8)\n",
      "Requirement already satisfied: cymem<2.1.0,>=2.0.2 in /home/owner/.local/lib/python3.7/site-packages (from spacy) (2.0.2)\n",
      "Requirement already satisfied: plac<1.0.0,>=0.9.6 in /home/owner/.local/lib/python3.7/site-packages (from spacy) (0.9.6)\n",
      "Requirement already satisfied: blis<0.3.0,>=0.2.2 in /home/owner/.local/lib/python3.7/site-packages (from spacy) (0.2.4)\n",
      "Requirement already satisfied: srsly<1.1.0,>=0.0.6 in /home/owner/.local/lib/python3.7/site-packages (from spacy) (0.1.0)\n",
      "Requirement already satisfied: six in /usr/lib/python3.7/site-packages (from nltk) (1.12.0)\n",
      "Requirement already satisfied: chardet>=3.0.2 in /usr/lib/python3.7/site-packages (from requests<3.0.0,>=2.13.0->spacy) (3.0.4)\n",
      "Requirement already satisfied: idna>=2.5 in /usr/lib/python3.7/site-packages (from requests<3.0.0,>=2.13.0->spacy) (2.8)\n",
      "Requirement already satisfied: urllib3>=1.21.1 in /usr/lib/python3.7/site-packages (from requests<3.0.0,>=2.13.0->spacy) (1.25.3)\n",
      "Requirement already satisfied: tqdm<5.0.0,>=4.10.0 in /home/owner/.local/lib/python3.7/site-packages (from thinc<7.1.0,>=7.0.8->spacy) (4.35.0)\n",
      "Installing collected packages: nltk\n",
      "  Running setup.py install for nltk ... \u001b[?25ldone\n",
      "\u001b[?25hSuccessfully installed nltk-3.4.5\n"
     ]
    }
   ],
   "source": [
    "! pip3 install spacy nltk --user"
   ]
  },
  {
   "cell_type": "code",
   "execution_count": 14,
   "metadata": {
    "ExecuteTime": {
     "end_time": "2019-09-14T12:07:22.601276Z",
     "start_time": "2019-09-14T12:07:19.027808Z"
    }
   },
   "outputs": [
    {
     "name": "stdout",
     "output_type": "stream",
     "text": [
      "Requirement already satisfied: en_core_web_sm==2.1.0 from https://github.com/explosion/spacy-models/releases/download/en_core_web_sm-2.1.0/en_core_web_sm-2.1.0.tar.gz#egg=en_core_web_sm==2.1.0 in /home/owner/.local/lib/python3.7/site-packages (2.1.0)\n",
      "\u001b[38;5;2m✔ Download and installation successful\u001b[0m\n",
      "You can now load the model via spacy.load('en_core_web_sm')\n"
     ]
    }
   ],
   "source": [
    "! python -m spacy download en_core_web_sm --user"
   ]
  },
  {
   "cell_type": "code",
   "execution_count": 26,
   "metadata": {
    "ExecuteTime": {
     "end_time": "2019-09-14T12:08:47.619544Z",
     "start_time": "2019-09-14T12:08:46.085811Z"
    }
   },
   "outputs": [
    {
     "name": "stderr",
     "output_type": "stream",
     "text": [
      "[nltk_data] Downloading package punkt to /home/owner/nltk_data...\n",
      "[nltk_data]   Package punkt is already up-to-date!\n",
      "[nltk_data] Downloading package averaged_perceptron_tagger to\n",
      "[nltk_data]     /home/owner/nltk_data...\n",
      "[nltk_data]   Unzipping taggers/averaged_perceptron_tagger.zip.\n"
     ]
    },
    {
     "data": {
      "text/plain": [
       "True"
      ]
     },
     "execution_count": 26,
     "metadata": {},
     "output_type": "execute_result"
    }
   ],
   "source": [
    "import nltk\n",
    "from nltk.tokenize import word_tokenize\n",
    "from nltk.tag import pos_tag\n",
    "\n",
    "import nltk\n",
    "nltk.download('punkt')\n",
    "nltk.download('averaged_perceptron_tagger')"
   ]
  },
  {
   "cell_type": "code",
   "execution_count": 27,
   "metadata": {
    "ExecuteTime": {
     "end_time": "2019-09-14T12:08:54.370460Z",
     "start_time": "2019-09-14T12:08:53.952739Z"
    }
   },
   "outputs": [],
   "source": [
    "import spacy\n",
    "from spacy import displacy\n",
    "from collections import Counter\n",
    "import en_core_web_sm\n",
    "nlp = en_core_web_sm.load()"
   ]
  },
  {
   "cell_type": "code",
   "execution_count": 34,
   "metadata": {
    "ExecuteTime": {
     "end_time": "2019-09-14T12:10:20.721215Z",
     "start_time": "2019-09-14T12:10:20.691549Z"
    }
   },
   "outputs": [],
   "source": [
    "doc = nlp('European authorities fined Google a record $5.1 billion on Wednesday '+\n",
    "          'for abusing its power in the mobile phone market and ordered the company to alter its practices')"
   ]
  },
  {
   "cell_type": "code",
   "execution_count": 35,
   "metadata": {
    "ExecuteTime": {
     "end_time": "2019-09-14T12:10:21.325973Z",
     "start_time": "2019-09-14T12:10:21.318908Z"
    }
   },
   "outputs": [
    {
     "name": "stdout",
     "output_type": "stream",
     "text": [
      "[('European', 'NORP'), ('Google', 'ORG'), ('$5.1 billion', 'MONEY'), ('Wednesday', 'DATE')]\n"
     ]
    }
   ],
   "source": [
    "print([(X.text, X.label_) for X in doc.ents])"
   ]
  },
  {
   "cell_type": "code",
   "execution_count": 76,
   "metadata": {
    "ExecuteTime": {
     "end_time": "2019-09-14T13:02:36.029294Z",
     "start_time": "2019-09-14T13:02:36.020152Z"
    }
   },
   "outputs": [],
   "source": [
    "texts = seq([\n",
    "    \"Hello, I'm Alan Turing.\",\n",
    "    \"My pesel number is 900303124\",\n",
    "    \"I live in Warsaw, Nałęczowska 8.\",\n",
    "    \"Hello here, I'd like to take a loan. I'm Eve Munish, I live in Cracow on Rodakowskiego street.\"    ,\n",
    "    \"I'd love to get a loan. My plan is to go on holiday to Russia.\",\n",
    "    \"Living on Brodway Street 8 is the best thing that happened to me.\",\n",
    "    \"I was born on 19.03.1990 in Kraków.\",\n",
    "    \"We will be fighting him in two weeks\"\n",
    "])"
   ]
  },
  {
   "cell_type": "code",
   "execution_count": 77,
   "metadata": {
    "ExecuteTime": {
     "end_time": "2019-09-14T13:02:36.761185Z",
     "start_time": "2019-09-14T13:02:36.750230Z"
    }
   },
   "outputs": [],
   "source": [
    "def print_ners(text:str):\n",
    "    d = nlp(text)\n",
    "    print(text)\n",
    "    print([(X.text, X.label_) for X in d.ents])\n",
    "    print(\"\")"
   ]
  },
  {
   "cell_type": "code",
   "execution_count": 78,
   "metadata": {
    "ExecuteTime": {
     "end_time": "2019-09-14T13:02:37.209960Z",
     "start_time": "2019-09-14T13:02:37.042194Z"
    }
   },
   "outputs": [
    {
     "name": "stdout",
     "output_type": "stream",
     "text": [
      "Hello, I'm Alan Turing.\n",
      "[('Alan Turing', 'PERSON')]\n",
      "\n",
      "My pesel number is 900303124\n",
      "[('900303124', 'CARDINAL')]\n",
      "\n",
      "I live in Warsaw, Nałęczowska 8.\n",
      "[('Warsaw', 'GPE'), ('Nałęczowska 8', 'LAW')]\n",
      "\n",
      "Hello here, I'd like to take a loan. I'm Eve Munish, I live in Cracow on Rodakowskiego street.\n",
      "[('Eve Munish', 'PERSON'), ('Cracow', 'GPE')]\n",
      "\n",
      "I'd love to get a loan. My plan is to go on holiday to Russia.\n",
      "[('Russia', 'GPE')]\n",
      "\n",
      "Living on Brodway Street 8 is the best thing that happened to me.\n",
      "[('Brodway Street 8', 'FAC')]\n",
      "\n",
      "I was born on 19.03.1990 in Kraków.\n",
      "[('Kraków', 'GPE')]\n",
      "\n",
      "We will be fighting him in two weeks\n",
      "[('two weeks', 'DATE')]\n",
      "\n"
     ]
    }
   ],
   "source": [
    "texts.for_each(lambda text: print_ners(text))"
   ]
  },
  {
   "cell_type": "markdown",
   "metadata": {},
   "source": [
    "### Regex for :\n",
    "    1. Birth date\n",
    "    2. PESEL\n",
    "    3. Dowówd / passport"
   ]
  },
  {
   "cell_type": "code",
   "execution_count": 61,
   "metadata": {
    "ExecuteTime": {
     "end_time": "2019-09-14T12:37:50.766942Z",
     "start_time": "2019-09-14T12:37:50.763195Z"
    }
   },
   "outputs": [],
   "source": [
    "entity = doc.ents[0]"
   ]
  },
  {
   "cell_type": "code",
   "execution_count": 79,
   "metadata": {
    "ExecuteTime": {
     "end_time": "2019-09-14T13:29:55.238854Z",
     "start_time": "2019-09-14T13:29:55.231991Z"
    }
   },
   "outputs": [
    {
     "data": {
      "text/plain": [
       "('NORP', 'European')"
      ]
     },
     "execution_count": 79,
     "metadata": {},
     "output_type": "execute_result"
    }
   ],
   "source": [
    "entity.label_, entity.text"
   ]
  },
  {
   "cell_type": "code",
   "execution_count": 81,
   "metadata": {
    "ExecuteTime": {
     "end_time": "2019-09-14T13:30:07.855707Z",
     "start_time": "2019-09-14T13:30:07.845576Z"
    }
   },
   "outputs": [
    {
     "data": {
      "text/plain": [
       "<class 'str'>"
      ]
     },
     "execution_count": 81,
     "metadata": {},
     "output_type": "execute_result"
    }
   ],
   "source": [
    "type(entity.label_)"
   ]
  },
  {
   "cell_type": "code",
   "execution_count": 64,
   "metadata": {
    "ExecuteTime": {
     "end_time": "2019-09-14T12:38:04.358123Z",
     "start_time": "2019-09-14T12:38:04.345137Z"
    }
   },
   "outputs": [
    {
     "data": {
      "text/plain": [
       "<class 'spacy.tokens.span.Span'>"
      ]
     },
     "execution_count": 64,
     "metadata": {},
     "output_type": "execute_result"
    }
   ],
   "source": [
    "type(doc.ents[1])"
   ]
  },
  {
   "cell_type": "code",
   "execution_count": null,
   "metadata": {},
   "outputs": [],
   "source": []
  }
 ],
 "metadata": {
  "kernelspec": {
   "display_name": "Python 3",
   "language": "python",
   "name": "python3"
  },
  "language_info": {
   "codemirror_mode": {
    "name": "ipython",
    "version": 3
   },
   "file_extension": ".py",
   "mimetype": "text/x-python",
   "name": "python",
   "nbconvert_exporter": "python",
   "pygments_lexer": "ipython3",
   "version": "3.7.4"
  }
 },
 "nbformat": 4,
 "nbformat_minor": 2
}
